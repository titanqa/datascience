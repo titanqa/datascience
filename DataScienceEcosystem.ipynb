{
 "cells": [
  {
   "cell_type": "markdown",
   "id": "dc414bb7-6879-4415-880a-035f8ba0b7bf",
   "metadata": {},
   "source": [
    "# Data Science Tools and Ecosystem"
   ]
  },
  {
   "cell_type": "markdown",
   "id": "fb46b928-007e-4164-bc62-31bc68db8075",
   "metadata": {},
   "source": [
    "__Objectives:__\n",
    "* List of popular languages for Data Science\n",
    "* List of Data Science Libraries\n",
    "* List of open source Data Science Tools\n",
    "* Some example of Python Codes"
   ]
  },
  {
   "cell_type": "markdown",
   "id": "0b6531c2-7343-44f4-a0eb-738952966ea6",
   "metadata": {},
   "source": [
    "In this notebook, we will take a look at different data science tools, programming languages, packages, etc., to get an overview of data science."
   ]
  },
  {
   "cell_type": "markdown",
   "id": "61b0570f-20d1-4b17-b3d6-ff8df443ca49",
   "metadata": {
    "tags": []
   },
   "source": [
    "Some of the popular languages that Data Scientists use are:\n",
    "1. Python\n",
    "2. R\n",
    "3. Scala"
   ]
  },
  {
   "cell_type": "markdown",
   "id": "ff955a03-713e-44aa-ad3e-ae8e387e19e8",
   "metadata": {
    "tags": []
   },
   "source": [
    "Some of the commonly used libraries used by Data Scientists include:\n",
    "1. Panda\n",
    "2. Numpy\n",
    "3. Ski-learn\n",
    "4. Matplotlib\n",
    "5. Scipy"
   ]
  },
  {
   "cell_type": "markdown",
   "id": "5b729033-8ee8-4021-bb9b-3d0c89543596",
   "metadata": {
    "tags": []
   },
   "source": [
    "| Data Science Tools |\n",
    "|--------------------|\n",
    "|      MySQL         |\n",
    "|   Apache Airflow   |\n",
    "|      Kibana        |"
   ]
  },
  {
   "cell_type": "markdown",
   "id": "d9e2b99e-289b-414b-a9df-e649474b602f",
   "metadata": {},
   "source": [
    "### Below are a few examples of evaluating arithmetic expressions in Python"
   ]
  },
  {
   "cell_type": "code",
   "execution_count": 4,
   "id": "3050f658-869b-4073-b915-d733b80fe5a5",
   "metadata": {
    "tags": []
   },
   "outputs": [
    {
     "data": {
      "text/plain": [
       "17"
      ]
     },
     "execution_count": 4,
     "metadata": {},
     "output_type": "execute_result"
    }
   ],
   "source": [
    "# This a simple arithmetic expression to mutiply then add integers\n",
    "(3*4)+5"
   ]
  },
  {
   "cell_type": "code",
   "execution_count": 7,
   "id": "c4e5b8c7-2310-4b10-bc69-107afcb36515",
   "metadata": {
    "tags": []
   },
   "outputs": [
    {
     "data": {
      "text/plain": [
       "3.3333333333333335"
      ]
     },
     "execution_count": 7,
     "metadata": {},
     "output_type": "execute_result"
    }
   ],
   "source": [
    "# This will convert 200 minutes to hours by diving by 60\n",
    "m = 200\n",
    "h = m/60\n",
    "h"
   ]
  },
  {
   "cell_type": "markdown",
   "id": "9b8f5f4c-3f48-4cb5-9936-b2584edac6ec",
   "metadata": {},
   "source": [
    "## Author \n",
    "Meissam Mehdizadeh"
   ]
  },
  {
   "cell_type": "code",
   "execution_count": null,
   "id": "764c63a7-cd9f-48dd-b786-4a148f565495",
   "metadata": {},
   "outputs": [],
   "source": []
  }
 ],
 "metadata": {
  "kernelspec": {
   "display_name": "Python",
   "language": "python",
   "name": "conda-env-python-py"
  },
  "language_info": {
   "codemirror_mode": {
    "name": "ipython",
    "version": 3
   },
   "file_extension": ".py",
   "mimetype": "text/x-python",
   "name": "python",
   "nbconvert_exporter": "python",
   "pygments_lexer": "ipython3",
   "version": "3.7.12"
  }
 },
 "nbformat": 4,
 "nbformat_minor": 5
}
